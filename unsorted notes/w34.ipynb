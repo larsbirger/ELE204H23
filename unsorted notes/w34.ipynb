{
 "cells": [
  {
   "cell_type": "markdown",
   "metadata": {},
   "source": [
    "# Week 34\n",
    "\n",
    "- [HaraldHVL unlisted video](https://www.youtube.com/watch?v=aN-evPkWxwY)"
   ]
  },
  {
   "cell_type": "code",
   "execution_count": 1,
   "metadata": {},
   "outputs": [
    {
     "ename": "TypeError",
     "evalue": "\nData type not understood; expecting list of lists or lists of values.",
     "output_type": "error",
     "traceback": [
      "\u001b[1;31m---------------------------------------------------------------------------\u001b[0m",
      "\u001b[1;31mTypeError\u001b[0m                                 Traceback (most recent call last)",
      "\u001b[1;32md:\\GIT_Repositories\\ELE204H23\\unsorted notes\\w34.ipynb Cell 2\u001b[0m line \u001b[0;36m4\n\u001b[0;32m      <a href='vscode-notebook-cell:/d%3A/GIT_Repositories/ELE204H23/unsorted%20notes/w34.ipynb#W1sZmlsZQ%3D%3D?line=0'>1</a>\u001b[0m \u001b[39mimport\u001b[39;00m \u001b[39msympy\u001b[39;00m \u001b[39mas\u001b[39;00m \u001b[39msp\u001b[39;00m\n\u001b[0;32m      <a href='vscode-notebook-cell:/d%3A/GIT_Repositories/ELE204H23/unsorted%20notes/w34.ipynb#W1sZmlsZQ%3D%3D?line=1'>2</a>\u001b[0m L,s,C,I,U,R1,R2 \u001b[39m=\u001b[39m sp\u001b[39m.\u001b[39msymbols(\u001b[39m\"\u001b[39m\u001b[39mL,s,C,I,U,R1,R2\u001b[39m\u001b[39m\"\u001b[39m)\n\u001b[1;32m----> <a href='vscode-notebook-cell:/d%3A/GIT_Repositories/ELE204H23/unsorted%20notes/w34.ipynb#W1sZmlsZQ%3D%3D?line=3'>4</a>\u001b[0m m \u001b[39m=\u001b[39m sp\u001b[39m.\u001b[39;49mMatrix([L\u001b[39m*\u001b[39;49ms\u001b[39m+\u001b[39;49mR1, \u001b[39m-\u001b[39;49mL\u001b[39m*\u001b[39;49ms], [\u001b[39m-\u001b[39;49mL\u001b[39m*\u001b[39;49ms, L\u001b[39m*\u001b[39;49ms\u001b[39m+\u001b[39;49mR2\u001b[39m+\u001b[39;49m\u001b[39m1\u001b[39;49m\u001b[39m/\u001b[39;49m(s\u001b[39m*\u001b[39;49mC)])\n\u001b[0;32m      <a href='vscode-notebook-cell:/d%3A/GIT_Repositories/ELE204H23/unsorted%20notes/w34.ipynb#W1sZmlsZQ%3D%3D?line=5'>6</a>\u001b[0m m\n",
      "File \u001b[1;32md:\\GIT_Repositories\\ELE204H23\\Lib\\site-packages\\sympy\\matrices\\repmatrix.py:329\u001b[0m, in \u001b[0;36mMutableRepMatrix.__new__\u001b[1;34m(cls, *args, **kwargs)\u001b[0m\n\u001b[0;32m    328\u001b[0m \u001b[39mdef\u001b[39;00m \u001b[39m__new__\u001b[39m(\u001b[39mcls\u001b[39m, \u001b[39m*\u001b[39margs, \u001b[39m*\u001b[39m\u001b[39m*\u001b[39mkwargs):\n\u001b[1;32m--> 329\u001b[0m     \u001b[39mreturn\u001b[39;00m \u001b[39mcls\u001b[39;49m\u001b[39m.\u001b[39;49m_new(\u001b[39m*\u001b[39;49margs, \u001b[39m*\u001b[39;49m\u001b[39m*\u001b[39;49mkwargs)\n",
      "File \u001b[1;32md:\\GIT_Repositories\\ELE204H23\\Lib\\site-packages\\sympy\\matrices\\repmatrix.py:340\u001b[0m, in \u001b[0;36mMutableRepMatrix._new\u001b[1;34m(cls, copy, *args, **kwargs)\u001b[0m\n\u001b[0;32m    338\u001b[0m     rows, cols, flat_list \u001b[39m=\u001b[39m args\n\u001b[0;32m    339\u001b[0m \u001b[39melse\u001b[39;00m:\n\u001b[1;32m--> 340\u001b[0m     rows, cols, flat_list \u001b[39m=\u001b[39m \u001b[39mcls\u001b[39;49m\u001b[39m.\u001b[39;49m_handle_creation_inputs(\u001b[39m*\u001b[39;49margs, \u001b[39m*\u001b[39;49m\u001b[39m*\u001b[39;49mkwargs)\n\u001b[0;32m    341\u001b[0m     flat_list \u001b[39m=\u001b[39m \u001b[39mlist\u001b[39m(flat_list) \u001b[39m# create a shallow copy\u001b[39;00m\n\u001b[0;32m    343\u001b[0m rep \u001b[39m=\u001b[39m \u001b[39mcls\u001b[39m\u001b[39m.\u001b[39m_flat_list_to_DomainMatrix(rows, cols, flat_list)\n",
      "File \u001b[1;32md:\\GIT_Repositories\\ELE204H23\\Lib\\site-packages\\sympy\\matrices\\matrices.py:1108\u001b[0m, in \u001b[0;36mMatrixBase._handle_creation_inputs\u001b[1;34m(cls, *args, **kwargs)\u001b[0m\n\u001b[0;32m   1105\u001b[0m     flat_list \u001b[39m=\u001b[39m []\n\u001b[0;32m   1107\u001b[0m \u001b[39mif\u001b[39;00m flat_list \u001b[39mis\u001b[39;00m \u001b[39mNone\u001b[39;00m:\n\u001b[1;32m-> 1108\u001b[0m     \u001b[39mraise\u001b[39;00m \u001b[39mTypeError\u001b[39;00m(filldedent(\u001b[39m'''\u001b[39m\n\u001b[0;32m   1109\u001b[0m \u001b[39m        Data type not understood; expecting list of lists\u001b[39m\n\u001b[0;32m   1110\u001b[0m \u001b[39m        or lists of values.\u001b[39m\u001b[39m'''\u001b[39m))\n\u001b[0;32m   1112\u001b[0m \u001b[39mreturn\u001b[39;00m rows, cols, flat_list\n",
      "\u001b[1;31mTypeError\u001b[0m: \nData type not understood; expecting list of lists or lists of values."
     ]
    }
   ],
   "source": [
    "import sympy as sp\n",
    "L,s,C,I,U,R1,R2 = sp.symbols(\"L,s,C,I,U,R1,R2\")\n",
    "\n",
    "m = sp.Matrix([L*s+R1, -L*s], [-L*s, L*s+R2+1/(s*C)])\n",
    "\n",
    "m"
   ]
  },
  {
   "cell_type": "code",
   "execution_count": 2,
   "metadata": {},
   "outputs": [
    {
     "ename": "ValueError",
     "evalue": "[] is not an integer",
     "output_type": "error",
     "traceback": [
      "\u001b[1;31m---------------------------------------------------------------------------\u001b[0m",
      "\u001b[1;31mTypeError\u001b[0m                                 Traceback (most recent call last)",
      "File \u001b[1;32md:\\GIT_Repositories\\ELE204H23\\Lib\\site-packages\\sympy\\utilities\\misc.py:555\u001b[0m, in \u001b[0;36mas_int\u001b[1;34m(n, strict)\u001b[0m\n\u001b[0;32m    554\u001b[0m         \u001b[39mraise\u001b[39;00m \u001b[39mTypeError\u001b[39;00m\n\u001b[1;32m--> 555\u001b[0m     \u001b[39mreturn\u001b[39;00m operator\u001b[39m.\u001b[39;49mindex(n)\n\u001b[0;32m    556\u001b[0m \u001b[39mexcept\u001b[39;00m \u001b[39mTypeError\u001b[39;00m:\n",
      "\u001b[1;31mTypeError\u001b[0m: 'list' object cannot be interpreted as an integer",
      "\nDuring handling of the above exception, another exception occurred:\n",
      "\u001b[1;31mValueError\u001b[0m                                Traceback (most recent call last)",
      "\u001b[1;32md:\\GIT_Repositories\\ELE204H23\\unsorted notes\\w34.ipynb Cell 3\u001b[0m line \u001b[0;36m3\n\u001b[0;32m      <a href='vscode-notebook-cell:/d%3A/GIT_Repositories/ELE204H23/unsorted%20notes/w34.ipynb#W2sZmlsZQ%3D%3D?line=0'>1</a>\u001b[0m \u001b[39mimport\u001b[39;00m \u001b[39msympy\u001b[39;00m \u001b[39mas\u001b[39;00m \u001b[39msp\u001b[39;00m\n\u001b[1;32m----> <a href='vscode-notebook-cell:/d%3A/GIT_Repositories/ELE204H23/unsorted%20notes/w34.ipynb#W2sZmlsZQ%3D%3D?line=2'>3</a>\u001b[0m sp\u001b[39m.\u001b[39;49mMatrix([],[],[])\n",
      "File \u001b[1;32md:\\GIT_Repositories\\ELE204H23\\Lib\\site-packages\\sympy\\matrices\\repmatrix.py:329\u001b[0m, in \u001b[0;36mMutableRepMatrix.__new__\u001b[1;34m(cls, *args, **kwargs)\u001b[0m\n\u001b[0;32m    328\u001b[0m \u001b[39mdef\u001b[39;00m \u001b[39m__new__\u001b[39m(\u001b[39mcls\u001b[39m, \u001b[39m*\u001b[39margs, \u001b[39m*\u001b[39m\u001b[39m*\u001b[39mkwargs):\n\u001b[1;32m--> 329\u001b[0m     \u001b[39mreturn\u001b[39;00m \u001b[39mcls\u001b[39;49m\u001b[39m.\u001b[39;49m_new(\u001b[39m*\u001b[39;49margs, \u001b[39m*\u001b[39;49m\u001b[39m*\u001b[39;49mkwargs)\n",
      "File \u001b[1;32md:\\GIT_Repositories\\ELE204H23\\Lib\\site-packages\\sympy\\matrices\\repmatrix.py:340\u001b[0m, in \u001b[0;36mMutableRepMatrix._new\u001b[1;34m(cls, copy, *args, **kwargs)\u001b[0m\n\u001b[0;32m    338\u001b[0m     rows, cols, flat_list \u001b[39m=\u001b[39m args\n\u001b[0;32m    339\u001b[0m \u001b[39melse\u001b[39;00m:\n\u001b[1;32m--> 340\u001b[0m     rows, cols, flat_list \u001b[39m=\u001b[39m \u001b[39mcls\u001b[39;49m\u001b[39m.\u001b[39;49m_handle_creation_inputs(\u001b[39m*\u001b[39;49margs, \u001b[39m*\u001b[39;49m\u001b[39m*\u001b[39;49mkwargs)\n\u001b[0;32m    341\u001b[0m     flat_list \u001b[39m=\u001b[39m \u001b[39mlist\u001b[39m(flat_list) \u001b[39m# create a shallow copy\u001b[39;00m\n\u001b[0;32m    343\u001b[0m rep \u001b[39m=\u001b[39m \u001b[39mcls\u001b[39m\u001b[39m.\u001b[39m_flat_list_to_DomainMatrix(rows, cols, flat_list)\n",
      "File \u001b[1;32md:\\GIT_Repositories\\ELE204H23\\Lib\\site-packages\\sympy\\matrices\\matrices.py:1076\u001b[0m, in \u001b[0;36mMatrixBase._handle_creation_inputs\u001b[1;34m(cls, *args, **kwargs)\u001b[0m\n\u001b[0;32m   1073\u001b[0m             cols \u001b[39m=\u001b[39m ncol\u001b[39m.\u001b[39mpop() \u001b[39mif\u001b[39;00m ncol \u001b[39melse\u001b[39;00m \u001b[39m0\u001b[39m\n\u001b[0;32m   1075\u001b[0m \u001b[39melif\u001b[39;00m \u001b[39mlen\u001b[39m(args) \u001b[39m==\u001b[39m \u001b[39m3\u001b[39m:\n\u001b[1;32m-> 1076\u001b[0m     rows \u001b[39m=\u001b[39m as_int(args[\u001b[39m0\u001b[39;49m])\n\u001b[0;32m   1077\u001b[0m     cols \u001b[39m=\u001b[39m as_int(args[\u001b[39m1\u001b[39m])\n\u001b[0;32m   1079\u001b[0m     \u001b[39mif\u001b[39;00m rows \u001b[39m<\u001b[39m \u001b[39m0\u001b[39m \u001b[39mor\u001b[39;00m cols \u001b[39m<\u001b[39m \u001b[39m0\u001b[39m:\n",
      "File \u001b[1;32md:\\GIT_Repositories\\ELE204H23\\Lib\\site-packages\\sympy\\utilities\\misc.py:557\u001b[0m, in \u001b[0;36mas_int\u001b[1;34m(n, strict)\u001b[0m\n\u001b[0;32m    555\u001b[0m         \u001b[39mreturn\u001b[39;00m operator\u001b[39m.\u001b[39mindex(n)\n\u001b[0;32m    556\u001b[0m     \u001b[39mexcept\u001b[39;00m \u001b[39mTypeError\u001b[39;00m:\n\u001b[1;32m--> 557\u001b[0m         \u001b[39mraise\u001b[39;00m \u001b[39mValueError\u001b[39;00m(\u001b[39m'\u001b[39m\u001b[39m%s\u001b[39;00m\u001b[39m is not an integer\u001b[39m\u001b[39m'\u001b[39m \u001b[39m%\u001b[39m (n,))\n\u001b[0;32m    558\u001b[0m \u001b[39melse\u001b[39;00m:\n\u001b[0;32m    559\u001b[0m     \u001b[39mtry\u001b[39;00m:\n",
      "\u001b[1;31mValueError\u001b[0m: [] is not an integer"
     ]
    }
   ],
   "source": [
    "import sympy as sp\n",
    "\n",
    "sp.Matrix([],[],[])"
   ]
  }
 ],
 "metadata": {
  "kernelspec": {
   "display_name": "Python 3",
   "language": "python",
   "name": "python3"
  },
  "language_info": {
   "codemirror_mode": {
    "name": "ipython",
    "version": 3
   },
   "file_extension": ".py",
   "mimetype": "text/x-python",
   "name": "python",
   "nbconvert_exporter": "python",
   "pygments_lexer": "ipython3",
   "version": "3.12.0"
  },
  "orig_nbformat": 4
 },
 "nbformat": 4,
 "nbformat_minor": 2
}
